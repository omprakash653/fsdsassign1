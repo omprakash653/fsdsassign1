{
 "cells": [
  {
   "cell_type": "markdown",
   "id": "874fcfa9",
   "metadata": {},
   "source": [
    "# Ans1"
   ]
  },
  {
   "cell_type": "code",
   "execution_count": 1,
   "id": "bc37dffe",
   "metadata": {},
   "outputs": [],
   "source": [
    "# Values- 'hello' , -87.8, 6\n",
    "# expressions- +, -, *, /"
   ]
  },
  {
   "cell_type": "markdown",
   "id": "be4a22bd",
   "metadata": {},
   "source": [
    "# Ans2"
   ]
  },
  {
   "cell_type": "code",
   "execution_count": 2,
   "id": "3c45df8a",
   "metadata": {},
   "outputs": [],
   "source": [
    "# Variable- A variable store some data that data can be string, integer, float,list or any datatypes\n",
    "# ex- a=5 or a= 'ineuron' or a=3.4\n",
    "\n",
    "# string- string is value which is in '' or \"\" or ''''''\n",
    "# ex- 'ineuron' or \"ineuron\"\n"
   ]
  },
  {
   "cell_type": "markdown",
   "id": "643f010f",
   "metadata": {},
   "source": [
    "# Ans3"
   ]
  },
  {
   "cell_type": "code",
   "execution_count": 3,
   "id": "d3cd79b4",
   "metadata": {},
   "outputs": [],
   "source": [
    "# Data Types- \n",
    "# integer- integer can be any whole number ex-1,2,3,1000\n",
    "# float- Float can be any decimal number ex-1.1,2.2,3.008\n",
    "# string- string is value which is in '' or \"\" or ''''''\n",
    "# ex- 'ineuron' or \"ineuron\"\n"
   ]
  },
  {
   "cell_type": "markdown",
   "id": "d21e23a9",
   "metadata": {},
   "source": [
    "# Ans4"
   ]
  },
  {
   "cell_type": "code",
   "execution_count": 4,
   "id": "652f162f",
   "metadata": {},
   "outputs": [],
   "source": [
    "# An expression is a piece of code that gives a value\n",
    "# Expression perform some operation between two or more variablle.\n"
   ]
  },
  {
   "cell_type": "markdown",
   "id": "c798c525",
   "metadata": {},
   "source": [
    "# Ans5"
   ]
  },
  {
   "cell_type": "code",
   "execution_count": 5,
   "id": "a22dc3a7",
   "metadata": {},
   "outputs": [],
   "source": [
    "# 1-An expression is a piece of code that produces a value\n",
    "# an expression could be something like \"3 * 8\", which evaluates to the value of 24\n",
    "\n",
    "# 2-a statement is a complete line of code that performs an action. In \n",
    "# the case of the example, \"spam = 10\" is a\n",
    "# statement that assigns the value of 10 to the variable \"spam\""
   ]
  },
  {
   "cell_type": "markdown",
   "id": "b8257dc6",
   "metadata": {},
   "source": [
    "# Ans6"
   ]
  },
  {
   "cell_type": "code",
   "execution_count": 11,
   "id": "bfc0c869",
   "metadata": {},
   "outputs": [
    {
     "data": {
      "text/plain": [
       "22"
      ]
     },
     "execution_count": 11,
     "metadata": {},
     "output_type": "execute_result"
    }
   ],
   "source": [
    "bacon = 22\n",
    "bacon + 1\n",
    "bacon\n",
    "# after running this code bacon will contain 22"
   ]
  },
  {
   "cell_type": "markdown",
   "id": "90434069",
   "metadata": {},
   "source": [
    "# Ans7"
   ]
  },
  {
   "cell_type": "code",
   "execution_count": 12,
   "id": "99ac914b",
   "metadata": {},
   "outputs": [
    {
     "data": {
      "text/plain": [
       "'spamspamspam'"
      ]
     },
     "execution_count": 12,
     "metadata": {},
     "output_type": "execute_result"
    }
   ],
   "source": [
    "'spam'+'spamspam'"
   ]
  },
  {
   "cell_type": "code",
   "execution_count": 13,
   "id": "161bf981",
   "metadata": {},
   "outputs": [
    {
     "data": {
      "text/plain": [
       "'spamspamspam'"
      ]
     },
     "execution_count": 13,
     "metadata": {},
     "output_type": "execute_result"
    }
   ],
   "source": [
    "'spam' * 3"
   ]
  },
  {
   "cell_type": "code",
   "execution_count": 14,
   "id": "2646cfe1",
   "metadata": {},
   "outputs": [],
   "source": [
    "# 'spamspamspam' will be the values of the following two terms be?"
   ]
  },
  {
   "cell_type": "markdown",
   "id": "da2c5b58",
   "metadata": {},
   "source": [
    "# Ans8"
   ]
  },
  {
   "cell_type": "code",
   "execution_count": 15,
   "id": "5a43ad66",
   "metadata": {},
   "outputs": [],
   "source": [
    "# Why is eggs a valid variable name while 100 is invalid\n",
    "# beacuse variable never stop from the digit it start from the 'letter' or '_'"
   ]
  },
  {
   "cell_type": "markdown",
   "id": "82d8d524",
   "metadata": {},
   "source": [
    "# Ans9"
   ]
  },
  {
   "cell_type": "code",
   "execution_count": null,
   "id": "4f854a97",
   "metadata": {},
   "outputs": [],
   "source": [
    "int(), float(), and str() functions will evaluate to the integer, floating-point number, and"
   ]
  },
  {
   "cell_type": "markdown",
   "id": "02e4b79b",
   "metadata": {},
   "source": [
    "# Ans10"
   ]
  },
  {
   "cell_type": "code",
   "execution_count": 17,
   "id": "4bebd01a",
   "metadata": {},
   "outputs": [
    {
     "data": {
      "text/plain": [
       "'I have eatenburritos.'"
      ]
     },
     "execution_count": 17,
     "metadata": {},
     "output_type": "execute_result"
    }
   ],
   "source": [
    "'I have eaten' + 'burritos.'"
   ]
  },
  {
   "cell_type": "code",
   "execution_count": null,
   "id": "f4b2a758",
   "metadata": {},
   "outputs": [],
   "source": [
    "string can concatenate with string only so we will remove integer"
   ]
  }
 ],
 "metadata": {
  "kernelspec": {
   "display_name": "Python 3 (ipykernel)",
   "language": "python",
   "name": "python3"
  },
  "language_info": {
   "codemirror_mode": {
    "name": "ipython",
    "version": 3
   },
   "file_extension": ".py",
   "mimetype": "text/x-python",
   "name": "python",
   "nbconvert_exporter": "python",
   "pygments_lexer": "ipython3",
   "version": "3.11.1"
  }
 },
 "nbformat": 4,
 "nbformat_minor": 5
}
